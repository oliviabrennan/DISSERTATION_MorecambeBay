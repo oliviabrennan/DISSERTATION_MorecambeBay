{
 "cells": [
  {
   "cell_type": "markdown",
   "id": "2ebc205b-72d8-4f4d-99d3-118082023e9a",
   "metadata": {},
   "source": [
    "## Sentinel-2 Salt Marsh Mapping over Morecambe Bay\n",
    "Author: Olivia Brennan\\\n",
    "Institution: University College London\\\n",
    "Date: 27/08/2025"
   ]
  },
  {
   "cell_type": "markdown",
   "id": "f7600fc2-7301-42ac-96e3-0625a678e88a",
   "metadata": {},
   "source": [
    "### 1. Preliminary setup:"
   ]
  },
  {
   "cell_type": "code",
   "execution_count": 2,
   "id": "356db254-03f9-484f-bd72-6645f0e774d8",
   "metadata": {},
   "outputs": [],
   "source": [
    "#import libraries \n",
    "\n",
    "import ee \n",
    "import geemap\n",
    "import datetime\n",
    "import folium\n",
    "from folium import plugins\n",
    "import numpy as np\n",
    "\n",
    "# initialize GEE\n",
    "ee.Authenticate() \n",
    "ee.Initialize(project='x-avenue-463113-j8') #project ID for 'Olivia's Dissertation project'"
   ]
  },
  {
   "cell_type": "code",
   "execution_count": 3,
   "id": "4e140272-1424-4f63-8014-15a096f5146e",
   "metadata": {},
   "outputs": [
    {
     "data": {
      "text/html": [
       "\n",
       "            <style>\n",
       "                .geemap-dark {\n",
       "                    --jp-widgets-color: white;\n",
       "                    --jp-widgets-label-color: white;\n",
       "                    --jp-ui-font-color1: white;\n",
       "                    --jp-layout-color2: #454545;\n",
       "                    background-color: #383838;\n",
       "                }\n",
       "\n",
       "                .geemap-dark .jupyter-button {\n",
       "                    --jp-layout-color3: #383838;\n",
       "                }\n",
       "\n",
       "                .geemap-colab {\n",
       "                    background-color: var(--colab-primary-surface-color, white);\n",
       "                }\n",
       "\n",
       "                .geemap-colab .jupyter-button {\n",
       "                    --jp-layout-color3: var(--colab-primary-surface-color, white);\n",
       "                }\n",
       "            </style>\n",
       "            "
      ],
      "text/plain": [
       "<IPython.core.display.HTML object>"
      ]
     },
     "metadata": {},
     "output_type": "display_data"
    }
   ],
   "source": [
    "# Define the upper boudnary of salt marsh used to clip the scenes.\n",
    "# based on HAT shoreline\n",
    "boundary = geemap.shp_to_ee(r\"C:\\Users\\oabre\\OneDrive - University College London\\olivia ucl\\DISSERTATION\\PYTHON\\ShorelineExtraction\\clean_shoreline_shapefiles\\HT_20210527_10m.shp\")\n",
    "\n",
    "#define visualisations for RGB & Normalized Difference Vegetation Index \n",
    "RGB_vis = {\n",
    "    'bands': ['B4', 'B3', 'B2'],  # True color\n",
    "    'min': 0,\n",
    "    'max': 2000,  \n",
    "    'gamma': [1.2, 1.2, 1.2]  \n",
    "}\n",
    "\n",
    "ndvi_vis = {\n",
    "    'min': -1,\n",
    "    'max': 1,\n",
    "    'palette': ['black', 'white', 'green']\n",
    "}\n",
    "\n",
    "masked_ndvi_vis = ndvi_vis = {\n",
    "    'min': -1,\n",
    "    'max': 1,\n",
    "    'palette': ['white', 'green']\n",
    "}"
   ]
  },
  {
   "cell_type": "markdown",
   "id": "fa340b7d-9478-4770-b7a8-e10e4a3b46a8",
   "metadata": {},
   "source": [
    "### 2. Call and clip a sentinel scene based on HAT. Apply NDVI thresholding.\n",
    "Can use either a date in winter or a date in summer.\\\n",
    "Compute NDVI based on spectral bands 4 and 8.\\\n",
    "Extract vegetation based on NDVI>0.2 threshold.\\\n",
    "Toggle layers on and off using the interactive map"
   ]
  },
  {
   "cell_type": "code",
   "execution_count": 5,
   "id": "fb00ac7d-5a2c-436c-bb28-4dd6f13b6945",
   "metadata": {},
   "outputs": [
    {
     "data": {
      "text/html": [
       "\n",
       "            <style>\n",
       "                .geemap-dark {\n",
       "                    --jp-widgets-color: white;\n",
       "                    --jp-widgets-label-color: white;\n",
       "                    --jp-ui-font-color1: white;\n",
       "                    --jp-layout-color2: #454545;\n",
       "                    background-color: #383838;\n",
       "                }\n",
       "\n",
       "                .geemap-dark .jupyter-button {\n",
       "                    --jp-layout-color3: #383838;\n",
       "                }\n",
       "\n",
       "                .geemap-colab {\n",
       "                    background-color: var(--colab-primary-surface-color, white);\n",
       "                }\n",
       "\n",
       "                .geemap-colab .jupyter-button {\n",
       "                    --jp-layout-color3: var(--colab-primary-surface-color, white);\n",
       "                }\n",
       "            </style>\n",
       "            "
      ],
      "text/plain": [
       "<IPython.core.display.HTML object>"
      ]
     },
     "metadata": {},
     "output_type": "display_data"
    },
    {
     "data": {
      "application/vnd.jupyter.widget-view+json": {
       "model_id": "c183c08689eb48379bde56ce2c1a380e",
       "version_major": 2,
       "version_minor": 0
      },
      "text/plain": [
       "Map(center=[54.1, -2.8], controls=(WidgetControl(options=['position', 'transparent_bg'], widget=SearchDataGUI(…"
      ]
     },
     "execution_count": 5,
     "metadata": {},
     "output_type": "execute_result"
    }
   ],
   "source": [
    "#summer date:\n",
    "#start_date = '2018-07-19'\n",
    "#end_date = '2018-07-20'\n",
    "\n",
    "#winter date:\n",
    "start_date = '2019-01-28'\n",
    "end_date = '2019-01-29'\n",
    "\n",
    "#call the set of scenes\n",
    "sentinel_collection = (ee.ImageCollection(\"COPERNICUS/S2_SR_HARMONIZED\")\n",
    "                       .filterDate(start_date, end_date) \n",
    "                       .filterBounds(boundary)\n",
    "                       .median())\n",
    "                       \n",
    "sentinel_image = sentinel_collection.clip(boundary) #clip to ROI\n",
    "\n",
    "# Compute NDVI \n",
    "ndvi = sentinel_collection.normalizedDifference(['B8', 'B4']).rename('NDVI').clip(boundary)\n",
    "\n",
    "# Create binary mask for vegetation (NDVI > 0.2)\n",
    "veg_mask = ndvi.gt(0.2).selfMask()  # selfMask removes zeros\n",
    "\n",
    "# Apply mask to NDVI\n",
    "masked_ndvi = ndvi.updateMask(veg_mask)\n",
    "\n",
    "#display the map:\n",
    "Map = geemap.Map(center=(54.1, -2.8), zoom=10) #load map centred on ROI\n",
    "Map.addLayer(sentinel_image, RGB_vis, 'Sentinel-2 RGB') #the true colour image\n",
    "Map.addLayer(ndvi, ndvi_vis, 'NDVI') \n",
    "Map.addLayer(masked_ndvi, masked_ndvi_vis, 'masked_NDVI') \n",
    "Map"
   ]
  },
  {
   "cell_type": "markdown",
   "id": "bc0a6a3c-32b4-4a7c-b881-138842cc42f2",
   "metadata": {},
   "source": [
    "### 3. Extract & export vegetation to polygon\n",
    "Results will be exported to Google Drive"
   ]
  },
  {
   "cell_type": "code",
   "execution_count": 9,
   "id": "9e7d78cc-7160-4f55-90f8-edb3d3dc6e3f",
   "metadata": {},
   "outputs": [
    {
     "data": {
      "text/html": [
       "\n",
       "            <style>\n",
       "                .geemap-dark {\n",
       "                    --jp-widgets-color: white;\n",
       "                    --jp-widgets-label-color: white;\n",
       "                    --jp-ui-font-color1: white;\n",
       "                    --jp-layout-color2: #454545;\n",
       "                    background-color: #383838;\n",
       "                }\n",
       "\n",
       "                .geemap-dark .jupyter-button {\n",
       "                    --jp-layout-color3: #383838;\n",
       "                }\n",
       "\n",
       "                .geemap-colab {\n",
       "                    background-color: var(--colab-primary-surface-color, white);\n",
       "                }\n",
       "\n",
       "                .geemap-colab .jupyter-button {\n",
       "                    --jp-layout-color3: var(--colab-primary-surface-color, white);\n",
       "                }\n",
       "            </style>\n",
       "            "
      ],
      "text/plain": [
       "<IPython.core.display.HTML object>"
      ]
     },
     "metadata": {},
     "output_type": "display_data"
    }
   ],
   "source": [
    "#multiply by 1000 for formatting\n",
    "int_ndvi = masked_ndvi.multiply(1000).toInt()\n",
    "\n",
    "#convert to vector\n",
    "vectors = int_ndvi.reduceToVectors(\n",
    "    geometry=boundary.geometry().bounds(),  # Simplify geometry\n",
    "    scale=30,  \n",
    "    geometryType='polygon',\n",
    "    eightConnected=False,\n",
    "    maxPixels=1e10\n",
    ")"
   ]
  },
  {
   "cell_type": "code",
   "execution_count": 10,
   "id": "58f0d3f6-c47e-4ffa-9ea8-15d25fb7703c",
   "metadata": {},
   "outputs": [
    {
     "data": {
      "text/html": [
       "\n",
       "            <style>\n",
       "                .geemap-dark {\n",
       "                    --jp-widgets-color: white;\n",
       "                    --jp-widgets-label-color: white;\n",
       "                    --jp-ui-font-color1: white;\n",
       "                    --jp-layout-color2: #454545;\n",
       "                    background-color: #383838;\n",
       "                }\n",
       "\n",
       "                .geemap-dark .jupyter-button {\n",
       "                    --jp-layout-color3: #383838;\n",
       "                }\n",
       "\n",
       "                .geemap-colab {\n",
       "                    background-color: var(--colab-primary-surface-color, white);\n",
       "                }\n",
       "\n",
       "                .geemap-colab .jupyter-button {\n",
       "                    --jp-layout-color3: var(--colab-primary-surface-color, white);\n",
       "                }\n",
       "            </style>\n",
       "            "
      ],
      "text/plain": [
       "<IPython.core.display.HTML object>"
      ]
     },
     "metadata": {},
     "output_type": "display_data"
    }
   ],
   "source": [
    "#Run the GEE export task:\n",
    "task = ee.batch.Export.table.toDrive(\n",
    "    collection=vectors,\n",
    "    description=f'NDVI_Vegetation_Boundary30{start_date}',\n",
    "    folder='GEE_exports',\n",
    "    fileFormat='SHP'\n",
    ")\n",
    "task.start()"
   ]
  }
 ],
 "metadata": {
  "kernelspec": {
   "display_name": "Python [conda env:base] *",
   "language": "python",
   "name": "conda-base-py"
  },
  "language_info": {
   "codemirror_mode": {
    "name": "ipython",
    "version": 3
   },
   "file_extension": ".py",
   "mimetype": "text/x-python",
   "name": "python",
   "nbconvert_exporter": "python",
   "pygments_lexer": "ipython3",
   "version": "3.12.3"
  }
 },
 "nbformat": 4,
 "nbformat_minor": 5
}
